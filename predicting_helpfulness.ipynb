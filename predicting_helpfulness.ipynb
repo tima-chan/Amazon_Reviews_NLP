{
  "cells": [
    {
      "cell_type": "code",
      "execution_count": 1,
      "metadata": {
        "colab": {
          "base_uri": "https://localhost:8080/"
        },
        "id": "eizFO7H5lwQS",
        "outputId": "82012b13-36a9-47e8-d82f-4f59824a8f06"
      },
      "outputs": [
        {
          "output_type": "stream",
          "name": "stdout",
          "text": [
            "Mounted at /content/drive\n"
          ]
        }
      ],
      "source": [
        "from google.colab import drive \n",
        "drive.mount('/content/drive')"
      ]
    },
    {
      "cell_type": "code",
      "execution_count": 46,
      "metadata": {
        "id": "UDh6dsu8VgPo"
      },
      "outputs": [],
      "source": [
        "import pandas as pd\n",
        "import numpy as np \n",
        "import matplotlib.pyplot as plt \n",
        "import seaborn as sns \n",
        "from sklearn.model_selection import train_test_split\n",
        "from sklearn.feature_extraction.text import TfidfTransformer\n",
        "from sklearn.preprocessing import StandardScaler\n",
        "from sklearn.feature_extraction.text import CountVectorizer\n",
        "from sklearn.naive_bayes import MultinomialNB\n",
        "from sklearn.metrics import accuracy_score, precision_score, recall_score, f1_score, confusion_matrix, precision_score\n",
        "from sklearn.linear_model import SGDClassifier, LogisticRegression\n",
        "from sklearn.neighbors import KNeighborsClassifier\n",
        "from sklearn.svm import SVC\n",
        "from sklearn.ensemble import RandomForestClassifier"
      ]
    },
    {
      "cell_type": "code",
      "execution_count": 3,
      "metadata": {
        "colab": {
          "base_uri": "https://localhost:8080/",
          "height": 699
        },
        "id": "UTlbSErAVtIX",
        "outputId": "dd96ce31-7fbe-4d55-a7de-7f490bdbf0d4"
      },
      "outputs": [
        {
          "output_type": "execute_result",
          "data": {
            "text/plain": [
              "       Id   ProductId          UserId                      ProfileName  \\\n",
              "0       1  B001E4KFG0  A3SGXH7AUHU8GW                       delmartian   \n",
              "1       2  B00813GRG4  A1D87F6ZCVE5NK                           dll pa   \n",
              "2       3  B000LQOCH0   ABXLMWJIXXAIN  Natalia Corres \"Natalia Corres\"   \n",
              "3  320691  B000CQ26E0   ABXLMWJIXXAIN  Natalia Corres \"Natalia Corres\"   \n",
              "4  320680  B000CQ26E0  A2RNYW2HIQBGSM                   Carlos Alvarez   \n",
              "\n",
              "   HelpfulnessNumerator  HelpfulnessDenominator  Score        Time  \\\n",
              "0                     1                       1      5  1303862400   \n",
              "1                     0                       0      1  1346976000   \n",
              "2                     1                       1      4  1219017600   \n",
              "3                     0                       0      4  1187740800   \n",
              "4                     3                       3      5  1238371200   \n",
              "\n",
              "                      Summary  \\\n",
              "0       Good Quality Dog Food   \n",
              "1           Not as Advertised   \n",
              "2       \"Delight\" says it all   \n",
              "3      Fast, Easy and organic   \n",
              "4  Tastes great, easy to make   \n",
              "\n",
              "                                                Text  ...  \\\n",
              "0  I have bought several of the Vitality canned d...  ...   \n",
              "1  Product arrived labeled as Jumbo Salted Peanut...  ...   \n",
              "2  This is a confection that has been around a fe...  ...   \n",
              "3  For speed and wholesome goodness, Annie's can ...  ...   \n",
              "4  These are really good.  You do need to add jus...  ...   \n",
              "\n",
              "                        Token_Summary  \\\n",
              "0  ['good', 'quality', 'dog', 'food']   \n",
              "1                       ['advertise']   \n",
              "2                  ['delight', 'say']   \n",
              "3         ['fast', 'easy', 'organic']   \n",
              "4  ['taste', 'great', 'easy', 'make']   \n",
              "\n",
              "                                          Token_Text reviews_length  \\\n",
              "0  ['buy', 'several', 'vitality', 'can', 'dog', '...            232   \n",
              "1  ['product', 'arrive', 'label', 'jumbo', 'salt'...            163   \n",
              "2  ['confection', 'around', 'century', 'light', '...            432   \n",
              "3  ['speed', 'wholesome', 'goodness', 'annie', 'n...            234   \n",
              "4  ['good', 'need', 'add', 'water', 'recommend', ...            167   \n",
              "\n",
              "  avg_word_length  reviews_per_user  avg_product_score  is_positive_score  \\\n",
              "0             1.0                 1                5.0                  1   \n",
              "1             1.0                 1                1.0                  0   \n",
              "2             1.0                 3                4.0                  1   \n",
              "3             1.0                 3                4.0                  1   \n",
              "4             1.0                45                4.0                  1   \n",
              "\n",
              "   n_marks  n_caps  n_punct  \n",
              "0        0       1        3  \n",
              "1        0       0        7  \n",
              "2        0       2       18  \n",
              "3        1       2       15  \n",
              "4        0       0        6  \n",
              "\n",
              "[5 rows x 22 columns]"
            ],
            "text/html": [
              "\n",
              "  <div id=\"df-90887639-a7f2-41c4-82d1-c36c4bbd833f\">\n",
              "    <div class=\"colab-df-container\">\n",
              "      <div>\n",
              "<style scoped>\n",
              "    .dataframe tbody tr th:only-of-type {\n",
              "        vertical-align: middle;\n",
              "    }\n",
              "\n",
              "    .dataframe tbody tr th {\n",
              "        vertical-align: top;\n",
              "    }\n",
              "\n",
              "    .dataframe thead th {\n",
              "        text-align: right;\n",
              "    }\n",
              "</style>\n",
              "<table border=\"1\" class=\"dataframe\">\n",
              "  <thead>\n",
              "    <tr style=\"text-align: right;\">\n",
              "      <th></th>\n",
              "      <th>Id</th>\n",
              "      <th>ProductId</th>\n",
              "      <th>UserId</th>\n",
              "      <th>ProfileName</th>\n",
              "      <th>HelpfulnessNumerator</th>\n",
              "      <th>HelpfulnessDenominator</th>\n",
              "      <th>Score</th>\n",
              "      <th>Time</th>\n",
              "      <th>Summary</th>\n",
              "      <th>Text</th>\n",
              "      <th>...</th>\n",
              "      <th>Token_Summary</th>\n",
              "      <th>Token_Text</th>\n",
              "      <th>reviews_length</th>\n",
              "      <th>avg_word_length</th>\n",
              "      <th>reviews_per_user</th>\n",
              "      <th>avg_product_score</th>\n",
              "      <th>is_positive_score</th>\n",
              "      <th>n_marks</th>\n",
              "      <th>n_caps</th>\n",
              "      <th>n_punct</th>\n",
              "    </tr>\n",
              "  </thead>\n",
              "  <tbody>\n",
              "    <tr>\n",
              "      <th>0</th>\n",
              "      <td>1</td>\n",
              "      <td>B001E4KFG0</td>\n",
              "      <td>A3SGXH7AUHU8GW</td>\n",
              "      <td>delmartian</td>\n",
              "      <td>1</td>\n",
              "      <td>1</td>\n",
              "      <td>5</td>\n",
              "      <td>1303862400</td>\n",
              "      <td>Good Quality Dog Food</td>\n",
              "      <td>I have bought several of the Vitality canned d...</td>\n",
              "      <td>...</td>\n",
              "      <td>['good', 'quality', 'dog', 'food']</td>\n",
              "      <td>['buy', 'several', 'vitality', 'can', 'dog', '...</td>\n",
              "      <td>232</td>\n",
              "      <td>1.0</td>\n",
              "      <td>1</td>\n",
              "      <td>5.0</td>\n",
              "      <td>1</td>\n",
              "      <td>0</td>\n",
              "      <td>1</td>\n",
              "      <td>3</td>\n",
              "    </tr>\n",
              "    <tr>\n",
              "      <th>1</th>\n",
              "      <td>2</td>\n",
              "      <td>B00813GRG4</td>\n",
              "      <td>A1D87F6ZCVE5NK</td>\n",
              "      <td>dll pa</td>\n",
              "      <td>0</td>\n",
              "      <td>0</td>\n",
              "      <td>1</td>\n",
              "      <td>1346976000</td>\n",
              "      <td>Not as Advertised</td>\n",
              "      <td>Product arrived labeled as Jumbo Salted Peanut...</td>\n",
              "      <td>...</td>\n",
              "      <td>['advertise']</td>\n",
              "      <td>['product', 'arrive', 'label', 'jumbo', 'salt'...</td>\n",
              "      <td>163</td>\n",
              "      <td>1.0</td>\n",
              "      <td>1</td>\n",
              "      <td>1.0</td>\n",
              "      <td>0</td>\n",
              "      <td>0</td>\n",
              "      <td>0</td>\n",
              "      <td>7</td>\n",
              "    </tr>\n",
              "    <tr>\n",
              "      <th>2</th>\n",
              "      <td>3</td>\n",
              "      <td>B000LQOCH0</td>\n",
              "      <td>ABXLMWJIXXAIN</td>\n",
              "      <td>Natalia Corres \"Natalia Corres\"</td>\n",
              "      <td>1</td>\n",
              "      <td>1</td>\n",
              "      <td>4</td>\n",
              "      <td>1219017600</td>\n",
              "      <td>\"Delight\" says it all</td>\n",
              "      <td>This is a confection that has been around a fe...</td>\n",
              "      <td>...</td>\n",
              "      <td>['delight', 'say']</td>\n",
              "      <td>['confection', 'around', 'century', 'light', '...</td>\n",
              "      <td>432</td>\n",
              "      <td>1.0</td>\n",
              "      <td>3</td>\n",
              "      <td>4.0</td>\n",
              "      <td>1</td>\n",
              "      <td>0</td>\n",
              "      <td>2</td>\n",
              "      <td>18</td>\n",
              "    </tr>\n",
              "    <tr>\n",
              "      <th>3</th>\n",
              "      <td>320691</td>\n",
              "      <td>B000CQ26E0</td>\n",
              "      <td>ABXLMWJIXXAIN</td>\n",
              "      <td>Natalia Corres \"Natalia Corres\"</td>\n",
              "      <td>0</td>\n",
              "      <td>0</td>\n",
              "      <td>4</td>\n",
              "      <td>1187740800</td>\n",
              "      <td>Fast, Easy and organic</td>\n",
              "      <td>For speed and wholesome goodness, Annie's can ...</td>\n",
              "      <td>...</td>\n",
              "      <td>['fast', 'easy', 'organic']</td>\n",
              "      <td>['speed', 'wholesome', 'goodness', 'annie', 'n...</td>\n",
              "      <td>234</td>\n",
              "      <td>1.0</td>\n",
              "      <td>3</td>\n",
              "      <td>4.0</td>\n",
              "      <td>1</td>\n",
              "      <td>1</td>\n",
              "      <td>2</td>\n",
              "      <td>15</td>\n",
              "    </tr>\n",
              "    <tr>\n",
              "      <th>4</th>\n",
              "      <td>320680</td>\n",
              "      <td>B000CQ26E0</td>\n",
              "      <td>A2RNYW2HIQBGSM</td>\n",
              "      <td>Carlos Alvarez</td>\n",
              "      <td>3</td>\n",
              "      <td>3</td>\n",
              "      <td>5</td>\n",
              "      <td>1238371200</td>\n",
              "      <td>Tastes great, easy to make</td>\n",
              "      <td>These are really good.  You do need to add jus...</td>\n",
              "      <td>...</td>\n",
              "      <td>['taste', 'great', 'easy', 'make']</td>\n",
              "      <td>['good', 'need', 'add', 'water', 'recommend', ...</td>\n",
              "      <td>167</td>\n",
              "      <td>1.0</td>\n",
              "      <td>45</td>\n",
              "      <td>4.0</td>\n",
              "      <td>1</td>\n",
              "      <td>0</td>\n",
              "      <td>0</td>\n",
              "      <td>6</td>\n",
              "    </tr>\n",
              "  </tbody>\n",
              "</table>\n",
              "<p>5 rows × 22 columns</p>\n",
              "</div>\n",
              "      <button class=\"colab-df-convert\" onclick=\"convertToInteractive('df-90887639-a7f2-41c4-82d1-c36c4bbd833f')\"\n",
              "              title=\"Convert this dataframe to an interactive table.\"\n",
              "              style=\"display:none;\">\n",
              "        \n",
              "  <svg xmlns=\"http://www.w3.org/2000/svg\" height=\"24px\"viewBox=\"0 0 24 24\"\n",
              "       width=\"24px\">\n",
              "    <path d=\"M0 0h24v24H0V0z\" fill=\"none\"/>\n",
              "    <path d=\"M18.56 5.44l.94 2.06.94-2.06 2.06-.94-2.06-.94-.94-2.06-.94 2.06-2.06.94zm-11 1L8.5 8.5l.94-2.06 2.06-.94-2.06-.94L8.5 2.5l-.94 2.06-2.06.94zm10 10l.94 2.06.94-2.06 2.06-.94-2.06-.94-.94-2.06-.94 2.06-2.06.94z\"/><path d=\"M17.41 7.96l-1.37-1.37c-.4-.4-.92-.59-1.43-.59-.52 0-1.04.2-1.43.59L10.3 9.45l-7.72 7.72c-.78.78-.78 2.05 0 2.83L4 21.41c.39.39.9.59 1.41.59.51 0 1.02-.2 1.41-.59l7.78-7.78 2.81-2.81c.8-.78.8-2.07 0-2.86zM5.41 20L4 18.59l7.72-7.72 1.47 1.35L5.41 20z\"/>\n",
              "  </svg>\n",
              "      </button>\n",
              "      \n",
              "  <style>\n",
              "    .colab-df-container {\n",
              "      display:flex;\n",
              "      flex-wrap:wrap;\n",
              "      gap: 12px;\n",
              "    }\n",
              "\n",
              "    .colab-df-convert {\n",
              "      background-color: #E8F0FE;\n",
              "      border: none;\n",
              "      border-radius: 50%;\n",
              "      cursor: pointer;\n",
              "      display: none;\n",
              "      fill: #1967D2;\n",
              "      height: 32px;\n",
              "      padding: 0 0 0 0;\n",
              "      width: 32px;\n",
              "    }\n",
              "\n",
              "    .colab-df-convert:hover {\n",
              "      background-color: #E2EBFA;\n",
              "      box-shadow: 0px 1px 2px rgba(60, 64, 67, 0.3), 0px 1px 3px 1px rgba(60, 64, 67, 0.15);\n",
              "      fill: #174EA6;\n",
              "    }\n",
              "\n",
              "    [theme=dark] .colab-df-convert {\n",
              "      background-color: #3B4455;\n",
              "      fill: #D2E3FC;\n",
              "    }\n",
              "\n",
              "    [theme=dark] .colab-df-convert:hover {\n",
              "      background-color: #434B5C;\n",
              "      box-shadow: 0px 1px 3px 1px rgba(0, 0, 0, 0.15);\n",
              "      filter: drop-shadow(0px 1px 2px rgba(0, 0, 0, 0.3));\n",
              "      fill: #FFFFFF;\n",
              "    }\n",
              "  </style>\n",
              "\n",
              "      <script>\n",
              "        const buttonEl =\n",
              "          document.querySelector('#df-90887639-a7f2-41c4-82d1-c36c4bbd833f button.colab-df-convert');\n",
              "        buttonEl.style.display =\n",
              "          google.colab.kernel.accessAllowed ? 'block' : 'none';\n",
              "\n",
              "        async function convertToInteractive(key) {\n",
              "          const element = document.querySelector('#df-90887639-a7f2-41c4-82d1-c36c4bbd833f');\n",
              "          const dataTable =\n",
              "            await google.colab.kernel.invokeFunction('convertToInteractive',\n",
              "                                                     [key], {});\n",
              "          if (!dataTable) return;\n",
              "\n",
              "          const docLinkHtml = 'Like what you see? Visit the ' +\n",
              "            '<a target=\"_blank\" href=https://colab.research.google.com/notebooks/data_table.ipynb>data table notebook</a>'\n",
              "            + ' to learn more about interactive tables.';\n",
              "          element.innerHTML = '';\n",
              "          dataTable['output_type'] = 'display_data';\n",
              "          await google.colab.output.renderOutput(dataTable, element);\n",
              "          const docLink = document.createElement('div');\n",
              "          docLink.innerHTML = docLinkHtml;\n",
              "          element.appendChild(docLink);\n",
              "        }\n",
              "      </script>\n",
              "    </div>\n",
              "  </div>\n",
              "  "
            ]
          },
          "metadata": {},
          "execution_count": 3
        }
      ],
      "source": [
        "df = pd.read_csv(\"/content/drive/MyDrive/Datasets/prepared_data.csv\")\n",
        "df.head()"
      ]
    },
    {
      "cell_type": "markdown",
      "source": [
        "## Introduction \n",
        "Many e-commerce sites offer users the opportunity to post their own reviews of products they have purchased. These reviews contain a wealth of information about users' experiences with a company's products, and other users may read these reviews when considering making a purchase. But because reviews consist mainly of user-generated text, it can be difficult for a business to extract insights from thousands of them\n",
        "\n",
        "On some e-commerce sites, users have the opportunity to rate another user's product review as \"helpful\" or not, and analyzing these \"helpful\" reviews can help a business understand what its customers want to know about its products before buying. At the very least, being able to identify and promote potentially \"helpful\" reviews, even without directly analyzing their contents, could help potential customers get the information they need sooner.\n"
      ],
      "metadata": {
        "id": "TgfHKP1TTM11"
      }
    },
    {
      "cell_type": "markdown",
      "source": [
        "## Initial exploration and cleaning\n",
        "### Check for duplicates\n",
        "With such a large dataset, one of my first concerns is whether it contains many duplicate entries. In particular, I am concerned about:\n",
        "\n",
        "* true duplicate entries, i.e., the exact same review of the same product by the same person, and\n",
        "* \"spam\" entries, i.e., the exact same text posted to multiple products"
      ],
      "metadata": {
        "id": "UmFgQKJaTbyK"
      }
    },
    {
      "cell_type": "code",
      "source": [
        "df.ProductId.value_counts()"
      ],
      "metadata": {
        "colab": {
          "base_uri": "https://localhost:8080/"
        },
        "id": "xVTmgzPVTI9u",
        "outputId": "6b6dc32a-f7b6-49db-ee4c-d5b6394285fe"
      },
      "execution_count": 4,
      "outputs": [
        {
          "output_type": "execute_result",
          "data": {
            "text/plain": [
              "B007JFMH8M    913\n",
              "B002QWHJOU    629\n",
              "B002QWP89S    629\n",
              "B0026RQTGE    629\n",
              "B002QWP8H0    629\n",
              "             ... \n",
              "B007VJ1W0K      1\n",
              "B006SF5T7U      1\n",
              "B006SF5RZE      1\n",
              "B006SF5RYK      1\n",
              "B001LR2CU2      1\n",
              "Name: ProductId, Length: 74258, dtype: int64"
            ]
          },
          "metadata": {},
          "execution_count": 4
        }
      ]
    },
    {
      "cell_type": "markdown",
      "source": [
        "It makes sense that there would be multiple reviews of some products, so these value counts are not unexpected."
      ],
      "metadata": {
        "id": "riIUu1VgTmZs"
      }
    },
    {
      "cell_type": "code",
      "source": [
        "df.UserId.value_counts()"
      ],
      "metadata": {
        "colab": {
          "base_uri": "https://localhost:8080/"
        },
        "id": "g3wxiSEdTkiK",
        "outputId": "db681d10-e6ef-44d1-c7eb-36155c3c9ec5"
      },
      "execution_count": 5,
      "outputs": [
        {
          "output_type": "execute_result",
          "data": {
            "text/plain": [
              "A3OXHLG6DIBRW8    439\n",
              "A1YUL9PCJR3JTY    410\n",
              "AY12DBB0U420B     389\n",
              "A281NPSIMI1C2R    365\n",
              "A1Z54EM24Y40LL    256\n",
              "                 ... \n",
              "AKNEZCDOFKYV2       1\n",
              "A2KL86YQ3G9XRS      1\n",
              "A3N8T534UDMJRL      1\n",
              "A3RA2S25DDQABY      1\n",
              "A3LGQPJCZVL9UC      1\n",
              "Name: UserId, Length: 256047, dtype: int64"
            ]
          },
          "metadata": {},
          "execution_count": 5
        }
      ]
    },
    {
      "cell_type": "markdown",
      "source": [
        "It's also reasonable that some reviewers write many reviews, but 439 reviews is quite a lot! Let's see how many times the same combinations of products and reviewers are repeated."
      ],
      "metadata": {
        "id": "D1Cic6dWTsMW"
      }
    },
    {
      "cell_type": "code",
      "source": [
        "dups = df.duplicated(subset=['ProductId', 'UserId'])\n",
        "dups.sum()"
      ],
      "metadata": {
        "colab": {
          "base_uri": "https://localhost:8080/"
        },
        "id": "f-PWzd69TpNn",
        "outputId": "65815c80-aa11-49c5-f7f2-a796c49ae19b"
      },
      "execution_count": 6,
      "outputs": [
        {
          "output_type": "execute_result",
          "data": {
            "text/plain": [
              "6202"
            ]
          },
          "metadata": {},
          "execution_count": 6
        }
      ]
    },
    {
      "cell_type": "markdown",
      "source": [
        "So it seems there may be 6202 times where the same user reviewed the same product more than once. Let's try to inspect some examples and see if we can figure out what's going on"
      ],
      "metadata": {
        "id": "PjcD1DTQT9E0"
      }
    },
    {
      "cell_type": "code",
      "source": [
        "dups[dups == True].iloc[:5]"
      ],
      "metadata": {
        "colab": {
          "base_uri": "https://localhost:8080/"
        },
        "id": "RjD7tApqT0oa",
        "outputId": "2b23f334-4f6d-48a5-c483-912f6e73c3ff"
      },
      "execution_count": 7,
      "outputs": [
        {
          "output_type": "execute_result",
          "data": {
            "text/plain": [
              "466    True\n",
              "472    True\n",
              "538    True\n",
              "544    True\n",
              "610    True\n",
              "dtype: bool"
            ]
          },
          "metadata": {},
          "execution_count": 7
        }
      ]
    },
    {
      "cell_type": "code",
      "source": [
        "df.iloc[466]"
      ],
      "metadata": {
        "colab": {
          "base_uri": "https://localhost:8080/"
        },
        "id": "BgmYVVORUJMZ",
        "outputId": "edc3563a-f951-473b-af39-577eaa475037"
      },
      "execution_count": 8,
      "outputs": [
        {
          "output_type": "execute_result",
          "data": {
            "text/plain": [
              "Id                                                                   135684\n",
              "ProductId                                                        B003THML30\n",
              "UserId                                                        AHWQNLEQRFUYN\n",
              "ProfileName                                   Colleen P. Perry \"Peanutfish\"\n",
              "HelpfulnessNumerator                                                      1\n",
              "HelpfulnessDenominator                                                    1\n",
              "Score                                                                     5\n",
              "Time                                                             1288310400\n",
              "Summary                                                          Excellent!\n",
              "Text                      I love these bars.  They are lighter and crisp...\n",
              "Cleaned_Summary                                                   excellent\n",
              "Cleaned_Text              love these bars they are lighter and crisper t...\n",
              "Token_Summary                                                 ['excellent']\n",
              "Token_Text                ['love', 'bar', 'light', 'crisp', 'nature', 'v...\n",
              "reviews_length                                                          148\n",
              "avg_word_length                                                         1.0\n",
              "reviews_per_user                                                         16\n",
              "avg_product_score                                                  3.736111\n",
              "is_positive_score                                                         1\n",
              "n_marks                                                                   0\n",
              "n_caps                                                                    1\n",
              "n_punct                                                                   3\n",
              "Name: 466, dtype: object"
            ]
          },
          "metadata": {},
          "execution_count": 8
        }
      ]
    },
    {
      "cell_type": "code",
      "source": [
        "scrapper = df[df.UserId == 'AHWQNLEQRFUYN']\n",
        "scrapper.describe()"
      ],
      "metadata": {
        "colab": {
          "base_uri": "https://localhost:8080/",
          "height": 344
        },
        "id": "zlPPyWyeUOVk",
        "outputId": "c8e17b97-fc05-458d-bcfe-0ec326051e51"
      },
      "execution_count": 9,
      "outputs": [
        {
          "output_type": "execute_result",
          "data": {
            "text/plain": [
              "                  Id  HelpfulnessNumerator  HelpfulnessDenominator  Score  \\\n",
              "count      16.000000             16.000000               16.000000   16.0   \n",
              "mean   349987.750000              1.500000                1.500000    5.0   \n",
              "std    125923.438165              0.516398                0.516398    0.0   \n",
              "min    135677.000000              1.000000                1.000000    5.0   \n",
              "25%    289652.750000              1.000000                1.000000    5.0   \n",
              "50%    338481.000000              1.500000                1.500000    5.0   \n",
              "75%    405801.000000              2.000000                2.000000    5.0   \n",
              "max    558654.000000              2.000000                2.000000    5.0   \n",
              "\n",
              "               Time  reviews_length  avg_word_length  reviews_per_user  \\\n",
              "count  1.600000e+01       16.000000             16.0              16.0   \n",
              "mean   1.288310e+09      161.000000              1.0              16.0   \n",
              "std    0.000000e+00       13.426342              0.0               0.0   \n",
              "min    1.288310e+09      148.000000              1.0              16.0   \n",
              "25%    1.288310e+09      148.000000              1.0              16.0   \n",
              "50%    1.288310e+09      161.000000              1.0              16.0   \n",
              "75%    1.288310e+09      174.000000              1.0              16.0   \n",
              "max    1.288310e+09      174.000000              1.0              16.0   \n",
              "\n",
              "       avg_product_score  is_positive_score  n_marks     n_caps    n_punct  \n",
              "count       1.600000e+01               16.0     16.0  16.000000  16.000000  \n",
              "mean        3.736111e+00                1.0      0.0   0.500000   4.000000  \n",
              "std         1.375960e-15                0.0      0.0   0.516398   1.032796  \n",
              "min         3.736111e+00                1.0      0.0   0.000000   3.000000  \n",
              "25%         3.736111e+00                1.0      0.0   0.000000   3.000000  \n",
              "50%         3.736111e+00                1.0      0.0   0.500000   4.000000  \n",
              "75%         3.736111e+00                1.0      0.0   1.000000   5.000000  \n",
              "max         3.736111e+00                1.0      0.0   1.000000   5.000000  "
            ],
            "text/html": [
              "\n",
              "  <div id=\"df-889733a3-3657-47c0-9788-6aeb93da69f7\">\n",
              "    <div class=\"colab-df-container\">\n",
              "      <div>\n",
              "<style scoped>\n",
              "    .dataframe tbody tr th:only-of-type {\n",
              "        vertical-align: middle;\n",
              "    }\n",
              "\n",
              "    .dataframe tbody tr th {\n",
              "        vertical-align: top;\n",
              "    }\n",
              "\n",
              "    .dataframe thead th {\n",
              "        text-align: right;\n",
              "    }\n",
              "</style>\n",
              "<table border=\"1\" class=\"dataframe\">\n",
              "  <thead>\n",
              "    <tr style=\"text-align: right;\">\n",
              "      <th></th>\n",
              "      <th>Id</th>\n",
              "      <th>HelpfulnessNumerator</th>\n",
              "      <th>HelpfulnessDenominator</th>\n",
              "      <th>Score</th>\n",
              "      <th>Time</th>\n",
              "      <th>reviews_length</th>\n",
              "      <th>avg_word_length</th>\n",
              "      <th>reviews_per_user</th>\n",
              "      <th>avg_product_score</th>\n",
              "      <th>is_positive_score</th>\n",
              "      <th>n_marks</th>\n",
              "      <th>n_caps</th>\n",
              "      <th>n_punct</th>\n",
              "    </tr>\n",
              "  </thead>\n",
              "  <tbody>\n",
              "    <tr>\n",
              "      <th>count</th>\n",
              "      <td>16.000000</td>\n",
              "      <td>16.000000</td>\n",
              "      <td>16.000000</td>\n",
              "      <td>16.0</td>\n",
              "      <td>1.600000e+01</td>\n",
              "      <td>16.000000</td>\n",
              "      <td>16.0</td>\n",
              "      <td>16.0</td>\n",
              "      <td>1.600000e+01</td>\n",
              "      <td>16.0</td>\n",
              "      <td>16.0</td>\n",
              "      <td>16.000000</td>\n",
              "      <td>16.000000</td>\n",
              "    </tr>\n",
              "    <tr>\n",
              "      <th>mean</th>\n",
              "      <td>349987.750000</td>\n",
              "      <td>1.500000</td>\n",
              "      <td>1.500000</td>\n",
              "      <td>5.0</td>\n",
              "      <td>1.288310e+09</td>\n",
              "      <td>161.000000</td>\n",
              "      <td>1.0</td>\n",
              "      <td>16.0</td>\n",
              "      <td>3.736111e+00</td>\n",
              "      <td>1.0</td>\n",
              "      <td>0.0</td>\n",
              "      <td>0.500000</td>\n",
              "      <td>4.000000</td>\n",
              "    </tr>\n",
              "    <tr>\n",
              "      <th>std</th>\n",
              "      <td>125923.438165</td>\n",
              "      <td>0.516398</td>\n",
              "      <td>0.516398</td>\n",
              "      <td>0.0</td>\n",
              "      <td>0.000000e+00</td>\n",
              "      <td>13.426342</td>\n",
              "      <td>0.0</td>\n",
              "      <td>0.0</td>\n",
              "      <td>1.375960e-15</td>\n",
              "      <td>0.0</td>\n",
              "      <td>0.0</td>\n",
              "      <td>0.516398</td>\n",
              "      <td>1.032796</td>\n",
              "    </tr>\n",
              "    <tr>\n",
              "      <th>min</th>\n",
              "      <td>135677.000000</td>\n",
              "      <td>1.000000</td>\n",
              "      <td>1.000000</td>\n",
              "      <td>5.0</td>\n",
              "      <td>1.288310e+09</td>\n",
              "      <td>148.000000</td>\n",
              "      <td>1.0</td>\n",
              "      <td>16.0</td>\n",
              "      <td>3.736111e+00</td>\n",
              "      <td>1.0</td>\n",
              "      <td>0.0</td>\n",
              "      <td>0.000000</td>\n",
              "      <td>3.000000</td>\n",
              "    </tr>\n",
              "    <tr>\n",
              "      <th>25%</th>\n",
              "      <td>289652.750000</td>\n",
              "      <td>1.000000</td>\n",
              "      <td>1.000000</td>\n",
              "      <td>5.0</td>\n",
              "      <td>1.288310e+09</td>\n",
              "      <td>148.000000</td>\n",
              "      <td>1.0</td>\n",
              "      <td>16.0</td>\n",
              "      <td>3.736111e+00</td>\n",
              "      <td>1.0</td>\n",
              "      <td>0.0</td>\n",
              "      <td>0.000000</td>\n",
              "      <td>3.000000</td>\n",
              "    </tr>\n",
              "    <tr>\n",
              "      <th>50%</th>\n",
              "      <td>338481.000000</td>\n",
              "      <td>1.500000</td>\n",
              "      <td>1.500000</td>\n",
              "      <td>5.0</td>\n",
              "      <td>1.288310e+09</td>\n",
              "      <td>161.000000</td>\n",
              "      <td>1.0</td>\n",
              "      <td>16.0</td>\n",
              "      <td>3.736111e+00</td>\n",
              "      <td>1.0</td>\n",
              "      <td>0.0</td>\n",
              "      <td>0.500000</td>\n",
              "      <td>4.000000</td>\n",
              "    </tr>\n",
              "    <tr>\n",
              "      <th>75%</th>\n",
              "      <td>405801.000000</td>\n",
              "      <td>2.000000</td>\n",
              "      <td>2.000000</td>\n",
              "      <td>5.0</td>\n",
              "      <td>1.288310e+09</td>\n",
              "      <td>174.000000</td>\n",
              "      <td>1.0</td>\n",
              "      <td>16.0</td>\n",
              "      <td>3.736111e+00</td>\n",
              "      <td>1.0</td>\n",
              "      <td>0.0</td>\n",
              "      <td>1.000000</td>\n",
              "      <td>5.000000</td>\n",
              "    </tr>\n",
              "    <tr>\n",
              "      <th>max</th>\n",
              "      <td>558654.000000</td>\n",
              "      <td>2.000000</td>\n",
              "      <td>2.000000</td>\n",
              "      <td>5.0</td>\n",
              "      <td>1.288310e+09</td>\n",
              "      <td>174.000000</td>\n",
              "      <td>1.0</td>\n",
              "      <td>16.0</td>\n",
              "      <td>3.736111e+00</td>\n",
              "      <td>1.0</td>\n",
              "      <td>0.0</td>\n",
              "      <td>1.000000</td>\n",
              "      <td>5.000000</td>\n",
              "    </tr>\n",
              "  </tbody>\n",
              "</table>\n",
              "</div>\n",
              "      <button class=\"colab-df-convert\" onclick=\"convertToInteractive('df-889733a3-3657-47c0-9788-6aeb93da69f7')\"\n",
              "              title=\"Convert this dataframe to an interactive table.\"\n",
              "              style=\"display:none;\">\n",
              "        \n",
              "  <svg xmlns=\"http://www.w3.org/2000/svg\" height=\"24px\"viewBox=\"0 0 24 24\"\n",
              "       width=\"24px\">\n",
              "    <path d=\"M0 0h24v24H0V0z\" fill=\"none\"/>\n",
              "    <path d=\"M18.56 5.44l.94 2.06.94-2.06 2.06-.94-2.06-.94-.94-2.06-.94 2.06-2.06.94zm-11 1L8.5 8.5l.94-2.06 2.06-.94-2.06-.94L8.5 2.5l-.94 2.06-2.06.94zm10 10l.94 2.06.94-2.06 2.06-.94-2.06-.94-.94-2.06-.94 2.06-2.06.94z\"/><path d=\"M17.41 7.96l-1.37-1.37c-.4-.4-.92-.59-1.43-.59-.52 0-1.04.2-1.43.59L10.3 9.45l-7.72 7.72c-.78.78-.78 2.05 0 2.83L4 21.41c.39.39.9.59 1.41.59.51 0 1.02-.2 1.41-.59l7.78-7.78 2.81-2.81c.8-.78.8-2.07 0-2.86zM5.41 20L4 18.59l7.72-7.72 1.47 1.35L5.41 20z\"/>\n",
              "  </svg>\n",
              "      </button>\n",
              "      \n",
              "  <style>\n",
              "    .colab-df-container {\n",
              "      display:flex;\n",
              "      flex-wrap:wrap;\n",
              "      gap: 12px;\n",
              "    }\n",
              "\n",
              "    .colab-df-convert {\n",
              "      background-color: #E8F0FE;\n",
              "      border: none;\n",
              "      border-radius: 50%;\n",
              "      cursor: pointer;\n",
              "      display: none;\n",
              "      fill: #1967D2;\n",
              "      height: 32px;\n",
              "      padding: 0 0 0 0;\n",
              "      width: 32px;\n",
              "    }\n",
              "\n",
              "    .colab-df-convert:hover {\n",
              "      background-color: #E2EBFA;\n",
              "      box-shadow: 0px 1px 2px rgba(60, 64, 67, 0.3), 0px 1px 3px 1px rgba(60, 64, 67, 0.15);\n",
              "      fill: #174EA6;\n",
              "    }\n",
              "\n",
              "    [theme=dark] .colab-df-convert {\n",
              "      background-color: #3B4455;\n",
              "      fill: #D2E3FC;\n",
              "    }\n",
              "\n",
              "    [theme=dark] .colab-df-convert:hover {\n",
              "      background-color: #434B5C;\n",
              "      box-shadow: 0px 1px 3px 1px rgba(0, 0, 0, 0.15);\n",
              "      filter: drop-shadow(0px 1px 2px rgba(0, 0, 0, 0.3));\n",
              "      fill: #FFFFFF;\n",
              "    }\n",
              "  </style>\n",
              "\n",
              "      <script>\n",
              "        const buttonEl =\n",
              "          document.querySelector('#df-889733a3-3657-47c0-9788-6aeb93da69f7 button.colab-df-convert');\n",
              "        buttonEl.style.display =\n",
              "          google.colab.kernel.accessAllowed ? 'block' : 'none';\n",
              "\n",
              "        async function convertToInteractive(key) {\n",
              "          const element = document.querySelector('#df-889733a3-3657-47c0-9788-6aeb93da69f7');\n",
              "          const dataTable =\n",
              "            await google.colab.kernel.invokeFunction('convertToInteractive',\n",
              "                                                     [key], {});\n",
              "          if (!dataTable) return;\n",
              "\n",
              "          const docLinkHtml = 'Like what you see? Visit the ' +\n",
              "            '<a target=\"_blank\" href=https://colab.research.google.com/notebooks/data_table.ipynb>data table notebook</a>'\n",
              "            + ' to learn more about interactive tables.';\n",
              "          element.innerHTML = '';\n",
              "          dataTable['output_type'] = 'display_data';\n",
              "          await google.colab.output.renderOutput(dataTable, element);\n",
              "          const docLink = document.createElement('div');\n",
              "          docLink.innerHTML = docLinkHtml;\n",
              "          element.appendChild(docLink);\n",
              "        }\n",
              "      </script>\n",
              "    </div>\n",
              "  </div>\n",
              "  "
            ]
          },
          "metadata": {},
          "execution_count": 9
        }
      ]
    },
    {
      "cell_type": "markdown",
      "source": [
        "\"Scrapper\" seems to have very positive opinions of the products she reviews, although she doesn't score a lot of \"helpful\" ratings.\n",
        "\n",
        "How many duplicate reviews has she produced?"
      ],
      "metadata": {
        "id": "SREvr84aU0CV"
      }
    },
    {
      "cell_type": "code",
      "source": [
        "scrapper.ProductId.value_counts()"
      ],
      "metadata": {
        "colab": {
          "base_uri": "https://localhost:8080/"
        },
        "id": "dDwHNUbpUbNy",
        "outputId": "bdee96ea-f1da-4363-d8dc-3339ba980fcf"
      },
      "execution_count": 10,
      "outputs": [
        {
          "output_type": "execute_result",
          "data": {
            "text/plain": [
              "B003THML30    2\n",
              "B004YWHTBS    2\n",
              "B003WLC4VC    2\n",
              "B003THQKXM    2\n",
              "B003NZHOQ2    2\n",
              "B005LXGGH2    2\n",
              "B003THTKZC    2\n",
              "B003UE2X2G    2\n",
              "Name: ProductId, dtype: int64"
            ]
          },
          "metadata": {},
          "execution_count": 10
        }
      ]
    },
    {
      "cell_type": "markdown",
      "source": [
        "It looks like she reviewed the first 8 products twice each. That's weird, but not that weird; maybe she just wanted to review those products more than once\n",
        "\n",
        "What about the reviews ?"
      ],
      "metadata": {
        "id": "1J159jicVDVf"
      }
    },
    {
      "cell_type": "code",
      "source": [
        "scrapper.Text.value_counts()"
      ],
      "metadata": {
        "colab": {
          "base_uri": "https://localhost:8080/"
        },
        "id": "MZ_MPegnU5pL",
        "outputId": "53df62ef-864d-4b19-b443-d76bc4e2ca7d"
      },
      "execution_count": 11,
      "outputs": [
        {
          "output_type": "execute_result",
          "data": {
            "text/plain": [
              "These are perfect for when you'd like to have that chocolate chip cookie and you know you shouldn't.  Its crunch, crispy with just the right amount of chocolate chips to satisfy your craving.    8\n",
              "I love these bars.  They are lighter and crisper than the nature valley brand.  Being that they have protein as well they make it a better choice to stave off hunger.                             8\n",
              "Name: Text, dtype: int64"
            ]
          },
          "metadata": {},
          "execution_count": 11
        }
      ]
    },
    {
      "cell_type": "markdown",
      "source": [
        "finding all duplicate review texts "
      ],
      "metadata": {
        "id": "CoOVRSr9VmEX"
      }
    },
    {
      "cell_type": "code",
      "source": [
        "df.Text.value_counts()[:2]"
      ],
      "metadata": {
        "colab": {
          "base_uri": "https://localhost:8080/"
        },
        "id": "EqSSDqGVVN7v",
        "outputId": "6ebb9a29-85c4-48b2-cb94-76c7eed938dd"
      },
      "execution_count": 12,
      "outputs": [
        {
          "output_type": "execute_result",
          "data": {
            "text/plain": [
              "Diamond Almonds<br />Almonds are a good source of magnesium. One ounce contain approximately 20% of the RDA for an adult recommended dietary allowance (RDA)<br />Recommended Dietary Allowance (RDA) the amounts of selected nutrients considered adequate to meet the known nutrient needs of healthy people. The RDA is based on scientific knowledge and has been presented by a committee of the Food and Nutrition Board (FNB) of the National Academy of Sciences (NAS). The Canadian equivalent is the Recommended Nutrient Intakes. RDA is generally accepted throughout the world as a valid source of information. At least 40 different nations have as well as organizations have published standards similar to the RDA.<br /><br />Magnesium is the fourth most abundant mineral in the body and is essential to good health. Approximately 50% of total body magnesium is found in bone. The other half is found predominantly inside cells of body tissues and organs. Only 1% of magnesium is found in blood, but the body works very hard to keep blood levels of magnesium constant.<br />Magnesium is needed for more than 300 biochemical reactions in the body. It helps maintain normal muscle and nerve function, keeps heart rhythm steady, supports a healthy immune system, and keeps bones strong. Magnesium also helps regulate blood sugar levels, promotes normal blood pressure, and is known to be involved in energy metabolism and protein synthesis. There is an increased interest in the role of magnesium in preventing and managing disorders such as hypertension, cardiovascular disease, and diabetes. Dietary magnesium is absorbed in the small intestines. Are you taking enough magnesium in the diet? The recommended daily allowance is 300mgs/day for men, 350mgs for women. Magnesium is extremely safe by mouth - too much simply causes diarrhea. Try increasing the amount of magnesium you take by mouth until it causes diarrhea, then reduce the dose slightly so it does not. This is called taking magnesium to bowel tolerance (just like using vitamin C to bowel tolerance.<br /><br />Almonds are a good source of Fiber.<br />One ounce contains approximately 12% of the RDA for an adult.<br />So, in summary, Almonds are a very healthy snack, so what's left to say?<br /><br />Two things:<br />1st be cautious about \"bowel tolerance\" or \"happy bowels\" if you prefer.<br />2nd Taste.  I realize that taste is a personal thing.  That's why they make chocolate, strawberry, and vanilla.<br /><br />Here's my current favorites\"<br /><br /> 1st Blue Diamond Dark mint dark chocolate (reminds me of the chocolate mint Girl Scout Cookies with less sugar).<br /><br />2nd Blue diamond Dark Chocolate Oven Roasted<br />3rd  Blue diamond Blue Butter Toffee<br />4thd Blue Diamond Almonds Bold Habanero BBQ (reminds me of  BBQ potato chips again with less sugar).<br />5th Bold Blazin Buffalo Wing<br />6th Blue Diamond Almonds Cinnamon Brown Sugar<br />7th  Blue Diamond Almonds Lime `n Chili<br />8th  Blue Diamond Almonds Smokehouse<br />9th  Bold Wasabi & Soy Sauce<br /><br />But that's just me: you might have a completely different take on these flavors.<br /> 4th  and 5th are very close.<br /><br />Gunner<br />May, 2012    40\n",
              "Stash Chamomile Herbal Tea is tea bags with dried, crushed chamomile flowers.<br /><br />Honestly, as far as I'm concerned, chamomile is chamomile.  I suppose that when you use loose flowers you get sediment in the cup and I have seen this happen with some brands of chamomile tea bags, these don't do that.<br /><br />I have also had organic chamomile (this isn't) but I can't taste the difference.<br /><br />Each bag is individually packaged and that is either good or bad depending on how and where you use it and if you are concerned about excessive packaging.<br /><br />If you like chamomile tea, this is a good choice.                                                                                                                                                                                                                                                                                                                                                                                                                                                                                                                                                                                                                                                                                                                                                                                                                                                                                                                                                                                                                                                                                                                                                                                                                                                                                                                                                                                                                                                                                                                                                                                                                                                                                                                                                                                                                                                                                                                                                                                                                                                                                                                                                                                                                                                                                                                                                                                                                                                                                                                                                                                                                                                                                     38\n",
              "Name: Text, dtype: int64"
            ]
          },
          "metadata": {},
          "execution_count": 12
        }
      ]
    },
    {
      "cell_type": "markdown",
      "source": [
        "The first review in this printout occurs 40 times in the dataset\n",
        "I think it would be safe to consider any non-unique review text as spam and remove all but the first instance from the dataset. How many spam reviews are there?"
      ],
      "metadata": {
        "id": "Z9RDrFQkV8EL"
      }
    },
    {
      "cell_type": "code",
      "source": [
        "dupe_texts = df.duplicated(subset=['Text'])\n",
        "dupe_texts.sum()"
      ],
      "metadata": {
        "colab": {
          "base_uri": "https://localhost:8080/"
        },
        "id": "MBVYJZJqVvbl",
        "outputId": "1bbf3a99-7c0e-4de8-da24-748a4ae2f13e"
      },
      "execution_count": 13,
      "outputs": [
        {
          "output_type": "execute_result",
          "data": {
            "text/plain": [
              "173437"
            ]
          },
          "metadata": {},
          "execution_count": 13
        }
      ]
    },
    {
      "cell_type": "markdown",
      "source": [
        "almost 174,000 of the reviews texts are non-unique! \n",
        "they must go "
      ],
      "metadata": {
        "id": "Aaonpzu_WV7V"
      }
    },
    {
      "cell_type": "code",
      "source": [
        "len(df)"
      ],
      "metadata": {
        "colab": {
          "base_uri": "https://localhost:8080/"
        },
        "id": "-bPa4JAVWTpc",
        "outputId": "f042d46c-18ae-4d1d-e9ce-9e4e10338260"
      },
      "execution_count": 14,
      "outputs": [
        {
          "output_type": "execute_result",
          "data": {
            "text/plain": [
              "566961"
            ]
          },
          "metadata": {},
          "execution_count": 14
        }
      ]
    },
    {
      "cell_type": "code",
      "source": [
        "data_no_dupe_text = df.drop_duplicates(subset=['Text'])"
      ],
      "metadata": {
        "id": "deGx8dk9Wf2l"
      },
      "execution_count": 4,
      "outputs": []
    },
    {
      "cell_type": "code",
      "source": [
        "len(data_no_dupe_text)"
      ],
      "metadata": {
        "colab": {
          "base_uri": "https://localhost:8080/"
        },
        "id": "em4YcHtBWprK",
        "outputId": "f2ba3281-b9df-474b-a161-9eabe92c733c"
      },
      "execution_count": null,
      "outputs": [
        {
          "output_type": "execute_result",
          "data": {
            "text/plain": [
              "393524"
            ]
          },
          "metadata": {},
          "execution_count": 19
        }
      ]
    },
    {
      "cell_type": "code",
      "source": [
        "data_no_dupe_text.info()"
      ],
      "metadata": {
        "colab": {
          "base_uri": "https://localhost:8080/"
        },
        "id": "GSyygNqxWski",
        "outputId": "d22b84c7-661b-4954-b20b-a900be530f61"
      },
      "execution_count": null,
      "outputs": [
        {
          "output_type": "stream",
          "name": "stdout",
          "text": [
            "<class 'pandas.core.frame.DataFrame'>\n",
            "Int64Index: 393524 entries, 0 to 566960\n",
            "Data columns (total 22 columns):\n",
            " #   Column                  Non-Null Count   Dtype  \n",
            "---  ------                  --------------   -----  \n",
            " 0   Id                      393524 non-null  int64  \n",
            " 1   ProductId               393524 non-null  object \n",
            " 2   UserId                  393524 non-null  object \n",
            " 3   ProfileName             393524 non-null  object \n",
            " 4   HelpfulnessNumerator    393524 non-null  int64  \n",
            " 5   HelpfulnessDenominator  393524 non-null  int64  \n",
            " 6   Score                   393524 non-null  int64  \n",
            " 7   Time                    393524 non-null  int64  \n",
            " 8   Summary                 393524 non-null  object \n",
            " 9   Text                    393524 non-null  object \n",
            " 10  Cleaned_Summary         392330 non-null  object \n",
            " 11  Cleaned_Text            393521 non-null  object \n",
            " 12  Token_Summary           393524 non-null  object \n",
            " 13  Token_Text              393524 non-null  object \n",
            " 14  reviews_length          393524 non-null  int64  \n",
            " 15  avg_word_length         393524 non-null  float64\n",
            " 16  reviews_per_user        393524 non-null  int64  \n",
            " 17  avg_product_score       393524 non-null  float64\n",
            " 18  is_positive_score       393524 non-null  int64  \n",
            " 19  n_marks                 393524 non-null  int64  \n",
            " 20  n_caps                  393524 non-null  int64  \n",
            " 21  n_punct                 393524 non-null  int64  \n",
            "dtypes: float64(2), int64(11), object(9)\n",
            "memory usage: 69.1+ MB\n"
          ]
        }
      ]
    },
    {
      "cell_type": "markdown",
      "source": [
        "## Save and Copy the Data for Modeling"
      ],
      "metadata": {
        "id": "pvmg6fStc3ML"
      }
    },
    {
      "cell_type": "code",
      "source": [
        "data = data_no_dupe_text.copy()"
      ],
      "metadata": {
        "id": "UM9n1XukdCDO"
      },
      "execution_count": 5,
      "outputs": []
    },
    {
      "cell_type": "code",
      "source": [
        "data.isna().sum()"
      ],
      "metadata": {
        "colab": {
          "base_uri": "https://localhost:8080/"
        },
        "id": "BRIXK34HcGKR",
        "outputId": "466b148b-c3fa-4c53-a39a-bfbeea7eed3c"
      },
      "execution_count": 6,
      "outputs": [
        {
          "output_type": "execute_result",
          "data": {
            "text/plain": [
              "Id                           0\n",
              "ProductId                    0\n",
              "UserId                       0\n",
              "ProfileName                  0\n",
              "HelpfulnessNumerator         0\n",
              "HelpfulnessDenominator       0\n",
              "Score                        0\n",
              "Time                         0\n",
              "Summary                      0\n",
              "Text                         0\n",
              "Cleaned_Summary           1194\n",
              "Cleaned_Text                 3\n",
              "Token_Summary                0\n",
              "Token_Text                   0\n",
              "reviews_length               0\n",
              "avg_word_length              0\n",
              "reviews_per_user             0\n",
              "avg_product_score            0\n",
              "is_positive_score            0\n",
              "n_marks                      0\n",
              "n_caps                       0\n",
              "n_punct                      0\n",
              "dtype: int64"
            ]
          },
          "metadata": {},
          "execution_count": 6
        }
      ]
    },
    {
      "cell_type": "code",
      "source": [
        "data.dropna(subset=['Cleaned_Text'], inplace=True)\n",
        "data.isna().sum()"
      ],
      "metadata": {
        "colab": {
          "base_uri": "https://localhost:8080/"
        },
        "id": "xPT03TGjcH_E",
        "outputId": "99b524cb-0f2f-4eb0-da1f-2e25a504c2ca"
      },
      "execution_count": 7,
      "outputs": [
        {
          "output_type": "execute_result",
          "data": {
            "text/plain": [
              "Id                           0\n",
              "ProductId                    0\n",
              "UserId                       0\n",
              "ProfileName                  0\n",
              "HelpfulnessNumerator         0\n",
              "HelpfulnessDenominator       0\n",
              "Score                        0\n",
              "Time                         0\n",
              "Summary                      0\n",
              "Text                         0\n",
              "Cleaned_Summary           1192\n",
              "Cleaned_Text                 0\n",
              "Token_Summary                0\n",
              "Token_Text                   0\n",
              "reviews_length               0\n",
              "avg_word_length              0\n",
              "reviews_per_user             0\n",
              "avg_product_score            0\n",
              "is_positive_score            0\n",
              "n_marks                      0\n",
              "n_caps                       0\n",
              "n_punct                      0\n",
              "dtype: int64"
            ]
          },
          "metadata": {},
          "execution_count": 7
        }
      ]
    },
    {
      "cell_type": "markdown",
      "source": [
        "### Creating the difference feature \n",
        "which is measuring the difference between the total numbers of the votes and the number of the upvotes."
      ],
      "metadata": {
        "id": "zoL76FYjllFj"
      }
    },
    {
      "cell_type": "code",
      "source": [
        "data['difference'] = df.HelpfulnessDenominator - df.HelpfulnessNumerator"
      ],
      "metadata": {
        "id": "bUJUH3L5dOAj"
      },
      "execution_count": 8,
      "outputs": []
    },
    {
      "cell_type": "code",
      "source": [
        "data.difference.describe()"
      ],
      "metadata": {
        "colab": {
          "base_uri": "https://localhost:8080/"
        },
        "id": "EnpAp7Hwdvvh",
        "outputId": "50d2d29d-4ab1-4a15-e659-832fe50f7bc1"
      },
      "execution_count": 9,
      "outputs": [
        {
          "output_type": "execute_result",
          "data": {
            "text/plain": [
              "count    393521.000000\n",
              "mean          0.470509\n",
              "std           1.906014\n",
              "min           0.000000\n",
              "25%           0.000000\n",
              "50%           0.000000\n",
              "75%           0.000000\n",
              "max         140.000000\n",
              "Name: difference, dtype: float64"
            ]
          },
          "metadata": {},
          "execution_count": 9
        }
      ]
    },
    {
      "cell_type": "code",
      "source": [
        "plt.figure(figsize=(20, 10))\n",
        "sns.distplot(data.difference)"
      ],
      "metadata": {
        "colab": {
          "base_uri": "https://localhost:8080/",
          "height": 678
        },
        "id": "NKQD2dwNeqbW",
        "outputId": "ce98768c-1619-4d37-f25d-9eb977995129"
      },
      "execution_count": 10,
      "outputs": [
        {
          "output_type": "stream",
          "name": "stderr",
          "text": [
            "/usr/local/lib/python3.7/dist-packages/seaborn/distributions.py:2619: FutureWarning: `distplot` is a deprecated function and will be removed in a future version. Please adapt your code to use either `displot` (a figure-level function with similar flexibility) or `histplot` (an axes-level function for histograms).\n",
            "  warnings.warn(msg, FutureWarning)\n"
          ]
        },
        {
          "output_type": "execute_result",
          "data": {
            "text/plain": [
              "<matplotlib.axes._subplots.AxesSubplot at 0x7f942f16f210>"
            ]
          },
          "metadata": {},
          "execution_count": 10
        },
        {
          "output_type": "display_data",
          "data": {
            "text/plain": [
              "<Figure size 1440x720 with 1 Axes>"
            ],
            "image/png": "[encoded data removed]"
          },
          "metadata": {
            "needs_background": "light"
          }
        }
      ]
    },
    {
      "cell_type": "code",
      "source": [
        "data.difference.value_counts()"
      ],
      "metadata": {
        "colab": {
          "base_uri": "https://localhost:8080/"
        },
        "id": "17j6hrPsgRDz",
        "outputId": "5417194a-9537-48bc-f91e-36d492546e16"
      },
      "execution_count": 11,
      "outputs": [
        {
          "output_type": "execute_result",
          "data": {
            "text/plain": [
              "0     315654\n",
              "1      46501\n",
              "2      13813\n",
              "3       6011\n",
              "4       3326\n",
              "       ...  \n",
              "90         1\n",
              "77         1\n",
              "70         1\n",
              "78         1\n",
              "84         1\n",
              "Name: difference, Length: 87, dtype: int64"
            ]
          },
          "metadata": {},
          "execution_count": 11
        }
      ]
    },
    {
      "cell_type": "code",
      "source": [
        "len(data)"
      ],
      "metadata": {
        "colab": {
          "base_uri": "https://localhost:8080/"
        },
        "id": "DglrM8UighjO",
        "outputId": "bd13fae9-3240-43c1-8e1e-56c7029b1865"
      },
      "execution_count": 23,
      "outputs": [
        {
          "output_type": "execute_result",
          "data": {
            "text/plain": [
              "393521"
            ]
          },
          "metadata": {},
          "execution_count": 23
        }
      ]
    },
    {
      "cell_type": "code",
      "source": [
        "data_op = data.copy()"
      ],
      "metadata": {
        "id": "Bwp0DI8eghd7"
      },
      "execution_count": 12,
      "outputs": []
    },
    {
      "cell_type": "markdown",
      "source": [
        "Choosing the reviews which have been indicated before as helpful or not "
      ],
      "metadata": {
        "id": "0rl0ETdOmGaP"
      }
    },
    {
      "cell_type": "code",
      "source": [
        "data_op = data_op[data_op.HelpfulnessDenominator != 0]"
      ],
      "metadata": {
        "id": "7Vi3VAxshT8X"
      },
      "execution_count": 13,
      "outputs": []
    },
    {
      "cell_type": "code",
      "source": [
        "data_op.difference.value_counts()"
      ],
      "metadata": {
        "colab": {
          "base_uri": "https://localhost:8080/"
        },
        "id": "HCMckh3ohf7t",
        "outputId": "b1fda155-1d70-4c70-c832-cdd010bbe837"
      },
      "execution_count": 14,
      "outputs": [
        {
          "output_type": "execute_result",
          "data": {
            "text/plain": [
              "0     131193\n",
              "1      46501\n",
              "2      13813\n",
              "3       6011\n",
              "4       3326\n",
              "       ...  \n",
              "90         1\n",
              "77         1\n",
              "70         1\n",
              "78         1\n",
              "84         1\n",
              "Name: difference, Length: 87, dtype: int64"
            ]
          },
          "metadata": {},
          "execution_count": 14
        }
      ]
    },
    {
      "cell_type": "code",
      "source": [
        "data_op['helpful'] = data_op.difference"
      ],
      "metadata": {
        "id": "XPHzyGIbhoU0"
      },
      "execution_count": 15,
      "outputs": []
    },
    {
      "cell_type": "code",
      "source": [
        "data_op.helpful[data_op.difference <= 1] = 1\n",
        "data_op.helpful[data_op.difference > 1] = 0"
      ],
      "metadata": {
        "id": "oRwkVO9ji_B1"
      },
      "execution_count": null,
      "outputs": []
    },
    {
      "cell_type": "code",
      "source": [
        "data_op.helpful.value_counts()"
      ],
      "metadata": {
        "colab": {
          "base_uri": "https://localhost:8080/"
        },
        "id": "pk-S08rTk6l0",
        "outputId": "04a50bab-51bf-4199-928d-4f227361cbf9"
      },
      "execution_count": 17,
      "outputs": [
        {
          "output_type": "execute_result",
          "data": {
            "text/plain": [
              "1    177694\n",
              "0     31366\n",
              "Name: helpful, dtype: int64"
            ]
          },
          "metadata": {},
          "execution_count": 17
        }
      ]
    },
    {
      "cell_type": "markdown",
      "source": [
        "So after studying multiple scenarios for this task, we can't take any action or decision for granted, So we have splited the difference as if the difference is less than or equal to one then the review is definitely helpful, otherwise we can't tell that the review is definitely unhelpful instead we can say that it might be helpful, or we can suggest them to the new users. "
      ],
      "metadata": {
        "id": "uL5dLiSylCb5"
      }
    },
    {
      "cell_type": "markdown",
      "source": [
        "## Preparing for the Model "
      ],
      "metadata": {
        "id": "rkOTP3pPmTU-"
      }
    },
    {
      "cell_type": "code",
      "source": [
        "X = data_op.Cleaned_Text\n",
        "y = data_op.helpful "
      ],
      "metadata": {
        "id": "hWF1ppnzl77E"
      },
      "execution_count": 18,
      "outputs": []
    },
    {
      "cell_type": "markdown",
      "source": [
        "## Vectorization "
      ],
      "metadata": {
        "id": "EgFlCAlvmmyt"
      }
    },
    {
      "cell_type": "code",
      "source": [
        "count_vec = CountVectorizer()\n",
        "X_count = count_vec.fit_transform(X)"
      ],
      "metadata": {
        "id": "y9pTHAm-maMC"
      },
      "execution_count": 19,
      "outputs": []
    },
    {
      "cell_type": "code",
      "source": [
        "tf_transformer = TfidfTransformer(use_idf=False)\n",
        "X_tf = tf_transformer.fit_transform(X_count)"
      ],
      "metadata": {
        "id": "Ef8hFkwFmllF"
      },
      "execution_count": 20,
      "outputs": []
    },
    {
      "cell_type": "markdown",
      "source": [
        "## Normalization "
      ],
      "metadata": {
        "id": "OFvWg7Pfm08r"
      }
    },
    {
      "cell_type": "code",
      "source": [
        "sc = StandardScaler(with_mean=False)\n",
        "X_tf= sc.fit_transform(X_tf)"
      ],
      "metadata": {
        "id": "WpLaRkRCmyLq"
      },
      "execution_count": 21,
      "outputs": []
    },
    {
      "cell_type": "markdown",
      "source": [
        "## Splitting the Data"
      ],
      "metadata": {
        "id": "B9HTK90FnDNM"
      }
    },
    {
      "cell_type": "code",
      "source": [
        "X_train, X_test, y_train, y_test = train_test_split(X_tf, y, train_size=0.75)\n",
        "\n",
        "print(X_train.shape)\n",
        "print(X_test.shape)"
      ],
      "metadata": {
        "colab": {
          "base_uri": "https://localhost:8080/"
        },
        "id": "vLgLH2sWnC56",
        "outputId": "2fca1ca7-2b4d-4bcb-edc5-263a71b6e152"
      },
      "execution_count": 22,
      "outputs": [
        {
          "output_type": "stream",
          "name": "stdout",
          "text": [
            "(156795, 87863)\n",
            "(52265, 87863)\n"
          ]
        }
      ]
    },
    {
      "cell_type": "markdown",
      "source": [
        "## Naive Bayes"
      ],
      "metadata": {
        "id": "Bz1sMnXGnhsJ"
      }
    },
    {
      "cell_type": "code",
      "source": [
        "# Base Model\n",
        "clf = MultinomialNB()\n",
        "\n",
        "clf.fit(X_train, y_train)\n",
        "\n",
        "train_preds = clf.predict(X_train)\n",
        "test_preds = clf.predict(X_test)\n",
        "\n",
        "train_acc = accuracy_score(y_train, train_preds)\n",
        "test_acc = accuracy_score(y_test, test_preds)\n",
        "\n",
        "print(train_acc)\n",
        "print(test_acc)"
      ],
      "metadata": {
        "colab": {
          "base_uri": "https://localhost:8080/"
        },
        "id": "CPZEUV56m7uI",
        "outputId": "8aac689d-e0d1-4e8c-8ea2-d774ede70838"
      },
      "execution_count": 23,
      "outputs": [
        {
          "output_type": "stream",
          "name": "stdout",
          "text": [
            "0.8695494116521573\n",
            "0.7190088969673778\n"
          ]
        }
      ]
    },
    {
      "cell_type": "markdown",
      "source": [
        "## SGD Classifier "
      ],
      "metadata": {
        "id": "pVZSM10lnpKp"
      }
    },
    {
      "cell_type": "code",
      "source": [
        "clf = SGDClassifier(class_weight='balanced')\n",
        "\n",
        "clf.fit(X_train, y_train)\n",
        "\n",
        "train_preds = clf.predict(X_train)\n",
        "test_preds = clf.predict(X_test)\n",
        "\n",
        "train_acc = accuracy_score(y_train, train_preds)\n",
        "test_acc = accuracy_score(y_test, test_preds)\n",
        "\n",
        "print(train_acc)\n",
        "print(test_acc)"
      ],
      "metadata": {
        "colab": {
          "base_uri": "https://localhost:8080/"
        },
        "id": "b-Mkw1jvnbX9",
        "outputId": "b9ce6992-b199-41a2-9a86-94c860c90eeb"
      },
      "execution_count": 24,
      "outputs": [
        {
          "output_type": "stream",
          "name": "stdout",
          "text": [
            "0.8499505724034567\n",
            "0.6877642781976466\n"
          ]
        }
      ]
    },
    {
      "cell_type": "code",
      "source": [
        "confusion_matrix(y_test, test_preds)"
      ],
      "metadata": {
        "colab": {
          "base_uri": "https://localhost:8080/"
        },
        "id": "uDBPkEqC1cfr",
        "outputId": "82eda855-a219-4af6-ca2b-3eada1c531a8"
      },
      "execution_count": 25,
      "outputs": [
        {
          "output_type": "execute_result",
          "data": {
            "text/plain": [
              "array([[ 3675,  4228],\n",
              "       [12091, 32271]])"
            ]
          },
          "metadata": {},
          "execution_count": 25
        }
      ]
    },
    {
      "cell_type": "code",
      "source": [
        "recall_score(y_test, test_preds)"
      ],
      "metadata": {
        "colab": {
          "base_uri": "https://localhost:8080/"
        },
        "id": "xDJMEEaP1qb8",
        "outputId": "0a50e7f7-9ada-42de-f420-7b6d2a8bfa5a"
      },
      "execution_count": 38,
      "outputs": [
        {
          "output_type": "execute_result",
          "data": {
            "text/plain": [
              "0.7098419976176028"
            ]
          },
          "metadata": {},
          "execution_count": 38
        }
      ]
    },
    {
      "cell_type": "code",
      "source": [
        "precision_score(y_test, test_preds)"
      ],
      "metadata": {
        "colab": {
          "base_uri": "https://localhost:8080/"
        },
        "id": "yreu6WyXlRzh",
        "outputId": "1b0e443c-7207-4f75-89cc-de7f26f2de1a"
      },
      "execution_count": 40,
      "outputs": [
        {
          "output_type": "execute_result",
          "data": {
            "text/plain": [
              "0.8870134247037016"
            ]
          },
          "metadata": {},
          "execution_count": 40
        }
      ]
    },
    {
      "cell_type": "markdown",
      "source": [
        "## Random Forest "
      ],
      "metadata": {
        "id": "xAQMxH1_22sp"
      }
    },
    {
      "cell_type": "code",
      "source": [
        "rf = RandomForestClassifier()\n",
        "rf.fit(X_train, y_train)\n",
        "\n",
        "train_preds = rf.predict(X_train)\n",
        "test_preds = rf.predict(X_test)\n",
        "\n",
        "train_acc = accuracy_score(y_train, train_preds)\n",
        "test_acc = accuracy_score(y_test, test_preds)\n",
        "\n",
        "print(train_acc)\n",
        "print(test_acc)"
      ],
      "metadata": {
        "colab": {
          "base_uri": "https://localhost:8080/"
        },
        "id": "1HNerprA2T33",
        "outputId": "ec9152aa-1a7e-4c99-bad5-d6a6b2533fd9"
      },
      "execution_count": null,
      "outputs": [
        {
          "output_type": "stream",
          "name": "stdout",
          "text": [
            "0.9998724449121464\n",
            "0.8507222806849708\n"
          ]
        }
      ]
    },
    {
      "cell_type": "code",
      "source": [
        "confusion_matrix(y_test, test_preds)"
      ],
      "metadata": {
        "colab": {
          "base_uri": "https://localhost:8080/"
        },
        "id": "Qvht2eGV3JLF",
        "outputId": "bfe075fd-c52a-456d-ebd1-41e680b391c0"
      },
      "execution_count": null,
      "outputs": [
        {
          "output_type": "execute_result",
          "data": {
            "text/plain": [
              "array([[   59,  7776],\n",
              "       [   26, 44404]])"
            ]
          },
          "metadata": {},
          "execution_count": 74
        }
      ]
    },
    {
      "cell_type": "markdown",
      "source": [
        "## Logistic Regression"
      ],
      "metadata": {
        "id": "FWUfWwxpQ2xU"
      }
    },
    {
      "cell_type": "code",
      "source": [
        "lr = LogisticRegression(C=0.8, max_iter=500)\n",
        "lr.fit(X_train, y_train)\n",
        "\n",
        "train_preds = lr.predict(X_train)\n",
        "test_preds = lr.predict(X_test)\n",
        "\n",
        "train_acc = accuracy_score(y_train, train_preds)\n",
        "test_acc = accuracy_score(y_test, test_preds)\n",
        "\n",
        "print(train_acc)\n",
        "print(test_acc)"
      ],
      "metadata": {
        "colab": {
          "base_uri": "https://localhost:8080/"
        },
        "id": "iRjewPOZQ0XM",
        "outputId": "4f1363ae-f839-4f19-836b-721a3aaa241e"
      },
      "execution_count": 34,
      "outputs": [
        {
          "output_type": "stream",
          "name": "stdout",
          "text": [
            "0.9357505022481585\n",
            "0.7913134985171721\n"
          ]
        },
        {
          "output_type": "stream",
          "name": "stderr",
          "text": [
            "/usr/local/lib/python3.7/dist-packages/sklearn/linear_model/_logistic.py:818: ConvergenceWarning: lbfgs failed to converge (status=1):\n",
            "STOP: TOTAL NO. of ITERATIONS REACHED LIMIT.\n",
            "\n",
            "Increase the number of iterations (max_iter) or scale the data as shown in:\n",
            "    https://scikit-learn.org/stable/modules/preprocessing.html\n",
            "Please also refer to the documentation for alternative solver options:\n",
            "    https://scikit-learn.org/stable/modules/linear_model.html#logistic-regression\n",
            "  extra_warning_msg=_LOGISTIC_SOLVER_CONVERGENCE_MSG,\n"
          ]
        }
      ]
    },
    {
      "cell_type": "code",
      "source": [
        "lr = LogisticRegression(C=0.1, max_iter=500)\n",
        "lr.fit(X_train, y_train)\n",
        "\n",
        "train_preds = lr.predict(X_train)\n",
        "test_preds = lr.predict(X_test)\n",
        "\n",
        "train_acc = accuracy_score(y_train, train_preds)\n",
        "test_acc = accuracy_score(y_test, test_preds)\n",
        "\n",
        "print(train_acc)\n",
        "print(test_acc)"
      ],
      "metadata": {
        "colab": {
          "base_uri": "https://localhost:8080/"
        },
        "id": "4S6w9yr7Q0TY",
        "outputId": "5a3421d7-f7e2-4c3d-e7f7-9fd6dd618823"
      },
      "execution_count": 56,
      "outputs": [
        {
          "output_type": "stream",
          "name": "stdout",
          "text": [
            "0.9356548359322683\n",
            "0.7933033578876878\n"
          ]
        },
        {
          "output_type": "stream",
          "name": "stderr",
          "text": [
            "/usr/local/lib/python3.7/dist-packages/sklearn/linear_model/_logistic.py:818: ConvergenceWarning: lbfgs failed to converge (status=1):\n",
            "STOP: TOTAL NO. of ITERATIONS REACHED LIMIT.\n",
            "\n",
            "Increase the number of iterations (max_iter) or scale the data as shown in:\n",
            "    https://scikit-learn.org/stable/modules/preprocessing.html\n",
            "Please also refer to the documentation for alternative solver options:\n",
            "    https://scikit-learn.org/stable/modules/linear_model.html#logistic-regression\n",
            "  extra_warning_msg=_LOGISTIC_SOLVER_CONVERGENCE_MSG,\n"
          ]
        }
      ]
    },
    {
      "cell_type": "code",
      "source": [
        ""
      ],
      "metadata": {
        "id": "C7HxPR87d56u"
      },
      "execution_count": null,
      "outputs": []
    }
  ],
  "metadata": {
    "colab": {
      "name": "predicting_helpfulness.ipynb",
      "provenance": []
    },
    "kernelspec": {
      "display_name": "Python 3",
      "name": "python3"
    },
    "language_info": {
      "name": "python"
    }
  },
  "nbformat": 4,
  "nbformat_minor": 0
}